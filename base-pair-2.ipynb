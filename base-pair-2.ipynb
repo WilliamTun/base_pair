{
 "cells": [
  {
   "cell_type": "code",
   "execution_count": 1,
   "metadata": {},
   "outputs": [],
   "source": [
    "import random\n",
    "import itertools\n",
    "import csv"
   ]
  },
  {
   "cell_type": "code",
   "execution_count": 2,
   "metadata": {},
   "outputs": [],
   "source": [
    "pair_history = []\n",
    "\n",
    "with open(\"pair_history.csv\") as csv_file:\n",
    "    csv_reader = csv.reader(csv_file, delimiter=',')\n",
    "    for row in csv_reader:\n",
    "        pair_history.append(set(row))"
   ]
  },
  {
   "cell_type": "code",
   "execution_count": 3,
   "metadata": {},
   "outputs": [
    {
     "data": {
      "text/plain": [
       "[{'Marlon Clark', 'Philipp Lorenz'},\n",
       " {'Bupe Fathelbab', 'Pedro Tizei'},\n",
       " {'Nadine Greenhalgh', 'Oliver Vince'},\n",
       " {'Saif Ur-Rehman', 'Will Chow'},\n",
       " {'Philipp Lorenz', 'Will Chow'},\n",
       " {'Bupe Fathelbab', 'Nadine Greenhalgh'},\n",
       " {'Oliver Vince', 'Will Tun'},\n",
       " {'Marlon Clark', 'Saif Ur-Rehman'},\n",
       " {'Philipp Lorenz', 'Saif Ur-Rehman'},\n",
       " {'Pedro Tizei', 'Will Tun'},\n",
       " {'Marlon Clark', 'Nadine Greenhalgh'},\n",
       " {'Bupe Fathelbab', 'Will Chow'},\n",
       " {'Glen Gowers', 'Oliver Vince'}]"
      ]
     },
     "execution_count": 3,
     "metadata": {},
     "output_type": "execute_result"
    }
   ],
   "source": [
    "pair_history"
   ]
  },
  {
   "cell_type": "code",
   "execution_count": 4,
   "metadata": {},
   "outputs": [],
   "source": [
    "team = set([\"Will Chow\", \"Will Tun\", \"Marlon Clark\", \"Bupe Fathelbab\", \"Nadine Greenhalgh\", \n",
    "       \"Philipp Lorenz\", \"Saif Ur-Rehman\", \"Oliver Vince\", \"Glen Gowers\", \"Pedro Tizei\"])"
   ]
  },
  {
   "cell_type": "code",
   "execution_count": 5,
   "metadata": {},
   "outputs": [
    {
     "name": "stdout",
     "output_type": "stream",
     "text": [
      "{'Will Tun', 'Oliver Vince'}\n",
      "Pair already in coffee pair history\n",
      "{'Will Chow', 'Saif Ur-Rehman'}\n",
      "Pair already in coffee pair history\n",
      "{'Bupe Fathelbab', 'Saif Ur-Rehman'}\n",
      "{'Will Chow', 'Oliver Vince'}\n",
      "{'Nadine Greenhalgh', 'Marlon Clark'}\n",
      "Pair already in coffee pair history\n",
      "{'Pedro Tizei', 'Marlon Clark'}\n",
      "{'Philipp Lorenz', 'Glen Gowers'}\n",
      "{'Will Tun', 'Nadine Greenhalgh'}\n"
     ]
    }
   ],
   "source": [
    "base_pairs = []\n",
    "\n",
    "while len(team) != 0:\n",
    "    pairs = set(random.sample(team, 2))\n",
    "    print(pairs)\n",
    "    if pairs in pair_history:\n",
    "        print(\"Pair already in coffee pair history\")\n",
    "    else:\n",
    "        base_pairs.append(pairs)\n",
    "        team = team - set(pairs)\n",
    "    "
   ]
  },
  {
   "cell_type": "code",
   "execution_count": 6,
   "metadata": {},
   "outputs": [
    {
     "data": {
      "text/plain": [
       "[{'Bupe Fathelbab', 'Saif Ur-Rehman'},\n",
       " {'Oliver Vince', 'Will Chow'},\n",
       " {'Marlon Clark', 'Pedro Tizei'},\n",
       " {'Glen Gowers', 'Philipp Lorenz'},\n",
       " {'Nadine Greenhalgh', 'Will Tun'}]"
      ]
     },
     "execution_count": 6,
     "metadata": {},
     "output_type": "execute_result"
    }
   ],
   "source": [
    "base_pairs"
   ]
  }
 ],
 "metadata": {
  "kernelspec": {
   "display_name": "Python 3",
   "language": "python",
   "name": "python3"
  },
  "language_info": {
   "codemirror_mode": {
    "name": "ipython",
    "version": 3
   },
   "file_extension": ".py",
   "mimetype": "text/x-python",
   "name": "python",
   "nbconvert_exporter": "python",
   "pygments_lexer": "ipython3",
   "version": "3.8.8"
  }
 },
 "nbformat": 4,
 "nbformat_minor": 2
}
