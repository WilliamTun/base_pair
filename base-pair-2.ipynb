{
 "cells": [
  {
   "cell_type": "code",
   "execution_count": 15,
   "metadata": {},
   "outputs": [],
   "source": [
    "import random\n",
    "import itertools\n",
    "import csv"
   ]
  },
  {
   "cell_type": "code",
   "execution_count": 36,
   "metadata": {},
   "outputs": [],
   "source": [
    "pair_history = []\n",
    "\n",
    "with open(\"pair_history.csv\") as csv_file:\n",
    "    csv_reader = csv.reader(csv_file, delimiter=',')\n",
    "    for row in csv_reader:\n",
    "        pair_history.append(set(row))"
   ]
  },
  {
   "cell_type": "code",
   "execution_count": 38,
   "metadata": {},
   "outputs": [
    {
     "data": {
      "text/plain": [
       "[{'Marlon Clark', 'Philipp Lorenz'},\n",
       " {'Bupe Fathelbab', 'Pedro Tizei'},\n",
       " {'Nadine Greenhalgh', 'Oliver Vince'},\n",
       " {'Saif Ur-Rehman', 'Will Chow'}]"
      ]
     },
     "execution_count": 38,
     "metadata": {},
     "output_type": "execute_result"
    }
   ],
   "source": [
    "pair_history"
   ]
  },
  {
   "cell_type": "code",
   "execution_count": 39,
   "metadata": {},
   "outputs": [
    {
     "data": {
      "text/plain": [
       "{'Bupe Fathelbab',\n",
       " 'Glen Gowers',\n",
       " 'Marlon Clark',\n",
       " 'Nadine Greenhalgh',\n",
       " 'Oliver Vince',\n",
       " 'Pedro Tizei',\n",
       " 'Philipp Lorenz',\n",
       " 'Saif Ur-Rehman',\n",
       " 'Will Chow',\n",
       " 'Will Tun'}"
      ]
     },
     "execution_count": 39,
     "metadata": {},
     "output_type": "execute_result"
    }
   ],
   "source": [
    "team = set([\"Will Chow\", \"Will Tun\", \"Marlon Clark\", \"Bupe Fathelbab\", \"Glen Gowers\", \"Nadine Greenhalgh\", \n",
    "       \"Philipp Lorenz\", \"Pedro Tizei\", \"Saif Ur-Rehman\", \"Oliver Vince\"])\n",
    "team"
   ]
  },
  {
   "cell_type": "code",
   "execution_count": 40,
   "metadata": {},
   "outputs": [
    {
     "name": "stdout",
     "output_type": "stream",
     "text": [
      "{'Pedro Tizei', 'Bupe Fathelbab'}\n",
      "Pair already in coffee pair history\n",
      "{'Oliver Vince', 'Will Chow'}\n",
      "{'Nadine Greenhalgh', 'Will Tun'}\n",
      "{'Glen Gowers', 'Saif Ur-Rehman'}\n",
      "{'Pedro Tizei', 'Bupe Fathelbab'}\n",
      "Pair already in coffee pair history\n",
      "{'Pedro Tizei', 'Philipp Lorenz'}\n",
      "{'Marlon Clark', 'Bupe Fathelbab'}\n"
     ]
    }
   ],
   "source": [
    "base_pairs = []\n",
    "\n",
    "while len(team) != 0:\n",
    "    pairs = set(random.sample(team, 2))\n",
    "    print(pairs)\n",
    "    if pairs in pair_history:\n",
    "        print(\"Pair already in coffee pair history\")\n",
    "    else:\n",
    "        base_pairs.append(pairs)\n",
    "        team = team - set(pairs)\n",
    "    "
   ]
  },
  {
   "cell_type": "code",
   "execution_count": 41,
   "metadata": {},
   "outputs": [
    {
     "data": {
      "text/plain": [
       "[{'Oliver Vince', 'Will Chow'},\n",
       " {'Nadine Greenhalgh', 'Will Tun'},\n",
       " {'Glen Gowers', 'Saif Ur-Rehman'},\n",
       " {'Pedro Tizei', 'Philipp Lorenz'},\n",
       " {'Bupe Fathelbab', 'Marlon Clark'}]"
      ]
     },
     "execution_count": 41,
     "metadata": {},
     "output_type": "execute_result"
    }
   ],
   "source": [
    "base_pairs"
   ]
  }
 ],
 "metadata": {
  "kernelspec": {
   "display_name": "Python 3",
   "language": "python",
   "name": "python3"
  },
  "language_info": {
   "codemirror_mode": {
    "name": "ipython",
    "version": 3
   },
   "file_extension": ".py",
   "mimetype": "text/x-python",
   "name": "python",
   "nbconvert_exporter": "python",
   "pygments_lexer": "ipython3",
   "version": "3.7.3"
  }
 },
 "nbformat": 4,
 "nbformat_minor": 2
}
